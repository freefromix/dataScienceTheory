{
 "cells": [
  {
   "cell_type": "code",
   "execution_count": 118,
   "metadata": {},
   "outputs": [],
   "source": [
    "import pandas as pd\n",
    "import numpy as np\n",
    "\n",
    "from sklearn.preprocessing import StandardScaler\n",
    "from sklearn.decomposition import PCA\n"
   ]
  },
  {
   "cell_type": "code",
   "execution_count": 119,
   "metadata": {},
   "outputs": [
    {
     "data": {
      "text/html": [
       "<div>\n",
       "<style scoped>\n",
       "    .dataframe tbody tr th:only-of-type {\n",
       "        vertical-align: middle;\n",
       "    }\n",
       "\n",
       "    .dataframe tbody tr th {\n",
       "        vertical-align: top;\n",
       "    }\n",
       "\n",
       "    .dataframe thead th {\n",
       "        text-align: right;\n",
       "    }\n",
       "</style>\n",
       "<table border=\"1\" class=\"dataframe\">\n",
       "  <thead>\n",
       "    <tr style=\"text-align: right;\">\n",
       "      <th></th>\n",
       "      <th>Matrix</th>\n",
       "      <th>Alien</th>\n",
       "      <th>Serenity</th>\n",
       "      <th>Casablanca</th>\n",
       "      <th>Amelie</th>\n",
       "    </tr>\n",
       "  </thead>\n",
       "  <tbody>\n",
       "    <tr>\n",
       "      <th>0</th>\n",
       "      <td>1.0</td>\n",
       "      <td>1.0</td>\n",
       "      <td>1.0</td>\n",
       "      <td>0.0</td>\n",
       "      <td>0.0</td>\n",
       "    </tr>\n",
       "    <tr>\n",
       "      <th>1</th>\n",
       "      <td>3.0</td>\n",
       "      <td>3.0</td>\n",
       "      <td>3.0</td>\n",
       "      <td>0.0</td>\n",
       "      <td>0.0</td>\n",
       "    </tr>\n",
       "    <tr>\n",
       "      <th>2</th>\n",
       "      <td>4.0</td>\n",
       "      <td>4.0</td>\n",
       "      <td>4.0</td>\n",
       "      <td>0.0</td>\n",
       "      <td>0.0</td>\n",
       "    </tr>\n",
       "    <tr>\n",
       "      <th>3</th>\n",
       "      <td>5.0</td>\n",
       "      <td>5.0</td>\n",
       "      <td>5.0</td>\n",
       "      <td>0.0</td>\n",
       "      <td>0.0</td>\n",
       "    </tr>\n",
       "    <tr>\n",
       "      <th>4</th>\n",
       "      <td>0.0</td>\n",
       "      <td>2.0</td>\n",
       "      <td>0.0</td>\n",
       "      <td>4.0</td>\n",
       "      <td>4.0</td>\n",
       "    </tr>\n",
       "    <tr>\n",
       "      <th>5</th>\n",
       "      <td>0.0</td>\n",
       "      <td>0.0</td>\n",
       "      <td>0.0</td>\n",
       "      <td>5.0</td>\n",
       "      <td>5.0</td>\n",
       "    </tr>\n",
       "    <tr>\n",
       "      <th>6</th>\n",
       "      <td>0.0</td>\n",
       "      <td>1.0</td>\n",
       "      <td>0.0</td>\n",
       "      <td>2.0</td>\n",
       "      <td>2.0</td>\n",
       "    </tr>\n",
       "  </tbody>\n",
       "</table>\n",
       "</div>"
      ],
      "text/plain": [
       "   Matrix  Alien  Serenity  Casablanca  Amelie\n",
       "0     1.0    1.0       1.0         0.0     0.0\n",
       "1     3.0    3.0       3.0         0.0     0.0\n",
       "2     4.0    4.0       4.0         0.0     0.0\n",
       "3     5.0    5.0       5.0         0.0     0.0\n",
       "4     0.0    2.0       0.0         4.0     4.0\n",
       "5     0.0    0.0       0.0         5.0     5.0\n",
       "6     0.0    1.0       0.0         2.0     2.0"
      ]
     },
     "execution_count": 119,
     "metadata": {},
     "output_type": "execute_result"
    }
   ],
   "source": [
    "df = pd.DataFrame([[1.,1.,1.,0,0],\n",
    "[3.,3.,3.,0,0],\n",
    "[4.,4.,4.,0,0],\n",
    "[5.,5.,5.,0,0],\n",
    "[0,2.,0,4.,4.],\n",
    "[0,0,0,5.,5.],\n",
    "[0,1.,0,2.,2.]], columns=['Matrix', 'Alien', 'Serenity', 'Casablanca', 'Amelie'])\n",
    "\n",
    "df"
   ]
  },
  {
   "cell_type": "code",
   "execution_count": 120,
   "metadata": {},
   "outputs": [],
   "source": [
    "scaler = StandardScaler()\n",
    "scaler.fit(df)\n",
    "scaled_data = scaler.transform(df)\n"
   ]
  },
  {
   "cell_type": "markdown",
   "metadata": {},
   "source": [
    "## PCA"
   ]
  },
  {
   "cell_type": "code",
   "execution_count": 199,
   "metadata": {},
   "outputs": [],
   "source": [
    "# Number of components to keep.\n",
    "# n_components == min(n_samples, n_features)\n",
    "pca = PCA(n_components=3)"
   ]
  },
  {
   "cell_type": "code",
   "execution_count": 200,
   "metadata": {},
   "outputs": [
    {
     "data": {
      "text/plain": [
       "PCA(copy=True, iterated_power='auto', n_components=3, random_state=None,\n",
       "  svd_solver='auto', tol=0.0, whiten=False)"
      ]
     },
     "execution_count": 200,
     "metadata": {},
     "output_type": "execute_result"
    }
   ],
   "source": [
    "pca.fit(scaled_data)"
   ]
  },
  {
   "cell_type": "code",
   "execution_count": 201,
   "metadata": {},
   "outputs": [],
   "source": [
    "x_pca = pca.transform(scaled_data)"
   ]
  },
  {
   "cell_type": "code",
   "execution_count": 202,
   "metadata": {},
   "outputs": [
    {
     "data": {
      "text/plain": [
       "array([[-0.46541708, -0.43804254, -0.46541708,  0.4329507 ,  0.4329507 ],\n",
       "       [-0.30297998, -0.45075325, -0.30297998, -0.55372727, -0.55372727],\n",
       "       [-0.43771003,  0.77777904, -0.43771003, -0.07707014, -0.07707014]])"
      ]
     },
     "execution_count": 202,
     "metadata": {},
     "output_type": "execute_result"
    }
   ],
   "source": [
    "pca.components_"
   ]
  },
  {
   "cell_type": "code",
   "execution_count": 203,
   "metadata": {},
   "outputs": [
    {
     "data": {
      "text/plain": [
       "array([4.98181251, 0.75758588, 0.09393494])"
      ]
     },
     "execution_count": 203,
     "metadata": {},
     "output_type": "execute_result"
    }
   ],
   "source": [
    "pca.explained_variance_"
   ]
  },
  {
   "cell_type": "code",
   "execution_count": 204,
   "metadata": {},
   "outputs": [
    {
     "data": {
      "text/plain": [
       "array([5.4672548 , 2.13202141, 0.75073938])"
      ]
     },
     "execution_count": 204,
     "metadata": {},
     "output_type": "execute_result"
    }
   ],
   "source": [
    "pca.singular_values_"
   ]
  },
  {
   "cell_type": "markdown",
   "metadata": {},
   "source": [
    "## sklearn.decomposition.TruncatedSVD"
   ]
  },
  {
   "cell_type": "code",
   "execution_count": 198,
   "metadata": {},
   "outputs": [
    {
     "name": "stdout",
     "output_type": "stream",
     "text": [
      "[4.27012501 0.64935933 0.08051566]\n",
      "----------------------\n",
      "[5.4672548  2.13202141 0.75073938]\n"
     ]
    }
   ],
   "source": [
    "from sklearn.decomposition import TruncatedSVD\n",
    "from sklearn.random_projection import sparse_random_matrix\n",
    "\n",
    "svd = TruncatedSVD(n_components=3)\n",
    "svd.fit(scaled_data)\n",
    "\n",
    "print(svd.explained_variance_) \n",
    "print(\"----------------------\")\n",
    "print(svd.singular_values_)  \n"
   ]
  },
  {
   "cell_type": "markdown",
   "metadata": {},
   "source": [
    "## scipy.sparse.linalg.svds"
   ]
  },
  {
   "cell_type": "code",
   "execution_count": 180,
   "metadata": {},
   "outputs": [],
   "source": [
    "from scipy.sparse import csc_matrix\n",
    "from scipy.sparse.linalg import svds, eigs"
   ]
  },
  {
   "cell_type": "code",
   "execution_count": 205,
   "metadata": {},
   "outputs": [],
   "source": [
    "# k:Number of singular values and vectors to compute. Must be 1 <= k < min(A.shape)\n",
    "# u: Unitary matrix having left singular vectors as columns.\n",
    "# s: The singular values.\n",
    "# vt: Unitary matrix having right singular vectors as rows.\n",
    "u, s, vt = svds(scaled_data, k=3)"
   ]
  },
  {
   "cell_type": "code",
   "execution_count": 211,
   "metadata": {},
   "outputs": [
    {
     "name": "stdout",
     "output_type": "stream",
     "text": [
      "[[-0.43771003  0.77777904 -0.43771003 -0.07707014 -0.07707014]\n",
      " [-0.30297998 -0.45075325 -0.30297998 -0.55372727 -0.55372727]\n",
      " [ 0.46541708  0.43804254  0.46541708 -0.4329507  -0.4329507 ]]\n",
      "----------------------\n",
      "reversed_arr s: [5.4672548  2.13202141 0.75073938]\n"
     ]
    }
   ],
   "source": [
    "print(vt)\n",
    "print(\"----------------------\")\n",
    "print(\"reversed_arr s:\", s[::-1])"
   ]
  },
  {
   "cell_type": "markdown",
   "metadata": {},
   "source": [
    "## scipy.linalg.svd"
   ]
  },
  {
   "cell_type": "code",
   "execution_count": 76,
   "metadata": {},
   "outputs": [],
   "source": [
    "from scipy import linalg"
   ]
  },
  {
   "cell_type": "code",
   "execution_count": 217,
   "metadata": {},
   "outputs": [],
   "source": [
    "# k:Number of singular values and vectors to compute. Must be 1 <= k < min(A.shape)\n",
    "# U: Unitary matrix having left singular vectors as columns.\n",
    "# s: The singular values, sorted in non-increasing order.\n",
    "# Vh: Unitary matrix having right singular vectors as rows.\n",
    "U_, s_, Vh_ = linalg.svd(scaled_data)"
   ]
  },
  {
   "cell_type": "code",
   "execution_count": 218,
   "metadata": {},
   "outputs": [
    {
     "name": "stdout",
     "output_type": "stream",
     "text": [
      "[5.46725480e+00 2.13202141e+00 7.50739383e-01 5.69485276e-16\n",
      " 2.55602307e-32]\n"
     ]
    }
   ],
   "source": [
    "print(s_)"
   ]
  },
  {
   "cell_type": "markdown",
   "metadata": {},
   "source": [
    "## numpy.linalg.svd"
   ]
  },
  {
   "cell_type": "code",
   "execution_count": 219,
   "metadata": {},
   "outputs": [],
   "source": [
    "# u: Unitary array(s)\n",
    "# s: Vector(s) with the singular values, within each vector sorted in descending order.\n",
    "# vh: Unitary array(s).\n",
    "u__, s__, vh__ = np.linalg.svd(scaled_data)"
   ]
  },
  {
   "cell_type": "code",
   "execution_count": 220,
   "metadata": {},
   "outputs": [
    {
     "name": "stdout",
     "output_type": "stream",
     "text": [
      "[5.46725480e+00 2.13202141e+00 7.50739383e-01 5.69485276e-16\n",
      " 2.55602307e-32]\n"
     ]
    }
   ],
   "source": [
    "print(s__)"
   ]
  },
  {
   "cell_type": "markdown",
   "metadata": {},
   "source": [
    "## Other"
   ]
  },
  {
   "cell_type": "code",
   "execution_count": 244,
   "metadata": {},
   "outputs": [
    {
     "data": {
      "text/plain": [
       "array([[ 0.03600116,  0.10408222,  0.13812275,  0.17216328, -0.18119989,\n",
       "        -0.1795499 , -0.08961963],\n",
       "       [ 0.10408222,  0.52801126,  0.73997578,  0.95194031, -0.77723847,\n",
       "        -1.10421072, -0.44256038],\n",
       "       [ 0.13812275,  0.73997578,  1.0409023 ,  1.34182882, -1.07525776,\n",
       "        -1.56654113, -0.61903076],\n",
       "       [ 0.17216328,  0.95194031,  1.34182882,  1.73171733, -1.37327705,\n",
       "        -2.02887154, -0.79550114],\n",
       "       [-0.18119989, -0.77723847, -1.07525776, -1.37327705,  1.19469821,\n",
       "         1.55651615,  0.65575881],\n",
       "       [-0.1795499 , -1.10421072, -1.56654113, -2.02887154,  1.55651615,\n",
       "         2.40300882,  0.91964833],\n",
       "       [-0.08961963, -0.44256038, -0.61903076, -0.79550114,  0.65575881,\n",
       "         0.91964833,  0.37130478]])"
      ]
     },
     "execution_count": 244,
     "metadata": {},
     "output_type": "execute_result"
    }
   ],
   "source": [
    "np.cov(scaled_data)"
   ]
  },
  {
   "cell_type": "code",
   "execution_count": 242,
   "metadata": {},
   "outputs": [],
   "source": [
    "# Covariance\n",
    "def cov(x, y):\n",
    "    xbar, ybar = x.mean(), y.mean()\n",
    "    return np.sum((x - xbar)*(y - ybar))/(len(x) - 1)\n",
    "\n",
    "# Covariance matrix\n",
    "def cov_mat(X):\n",
    "    return np.array([[cov(X[0], X[0]), cov(X[0], X[1]), cov(X[0], X[2]), cov(X[0], X[3]), cov(X[0], X[4]), cov(X[0], X[5]), cov(X[0], X[6])], \\\n",
    "                     [cov(X[1], X[0]), cov(X[1], X[1]), cov(X[1], X[2]), cov(X[1], X[3]), cov(X[1], X[4]), cov(X[1], X[5]), cov(X[1], X[6])]                    \n",
    "                    ])"
   ]
  },
  {
   "cell_type": "code",
   "execution_count": 245,
   "metadata": {},
   "outputs": [
    {
     "data": {
      "text/plain": [
       "array([[0.03600116, 0.10408222, 0.13812275],\n",
       "       [0.10408222, 0.52801126, 0.73997578]])"
      ]
     },
     "execution_count": 245,
     "metadata": {},
     "output_type": "execute_result"
    }
   ],
   "source": [
    "# Calculate covariance matrix \n",
    "cov_mat(scaled_data)"
   ]
  },
  {
   "cell_type": "code",
   "execution_count": null,
   "metadata": {},
   "outputs": [],
   "source": []
  }
 ],
 "metadata": {
  "kernelspec": {
   "display_name": "Python 3",
   "language": "python",
   "name": "python3"
  },
  "language_info": {
   "codemirror_mode": {
    "name": "ipython",
    "version": 3
   },
   "file_extension": ".py",
   "mimetype": "text/x-python",
   "name": "python",
   "nbconvert_exporter": "python",
   "pygments_lexer": "ipython3",
   "version": "3.7.3"
  }
 },
 "nbformat": 4,
 "nbformat_minor": 2
}
