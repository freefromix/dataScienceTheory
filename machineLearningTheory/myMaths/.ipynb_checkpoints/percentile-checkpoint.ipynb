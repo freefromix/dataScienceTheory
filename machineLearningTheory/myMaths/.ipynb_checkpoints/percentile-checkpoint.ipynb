{
 "cells": [
  {
   "cell_type": "markdown",
   "metadata": {},
   "source": [
    "# Percentile\n",
    "\n",
    "Normal distribution:\n",
    "![](img/The_Normal_Distribution.svg)"
   ]
  },
  {
   "cell_type": "code",
   "execution_count": 1,
   "metadata": {},
   "outputs": [],
   "source": [
    "import pandas as pd\n",
    "import numpy as np\n",
    " "
   ]
  },
  {
   "cell_type": "code",
   "execution_count": 2,
   "metadata": {},
   "outputs": [
    {
     "name": "stdout",
     "output_type": "stream",
     "text": [
      "      Name  Mathematics_score\n",
      "0   George                 62\n",
      "1   Andrea                 47\n",
      "2  micheal                 55\n",
      "3   maggie                 74\n",
      "4     Ravi                 32\n",
      "5     Xien                 77\n",
      "6    Jalpa                 86\n"
     ]
    }
   ],
   "source": [
    "#Create a DataFrame\n",
    "df1 = {\n",
    "     'Name':['George','Andrea','micheal','maggie','Ravi','Xien','Jalpa'],\n",
    "   'Mathematics_score':[62,47,55,74,32,77,86]}\n",
    " \n",
    "df1 = pd.DataFrame(df1,columns=['Name','Mathematics_score'])\n",
    "print(df1)"
   ]
  },
  {
   "cell_type": "code",
   "execution_count": 11,
   "metadata": {},
   "outputs": [
    {
     "name": "stdout",
     "output_type": "stream",
     "text": [
      "      Name  Mathematics_score  Percentile_rank\n",
      "0   George                 62         0.571429\n",
      "1   Andrea                 47         0.285714\n",
      "2  micheal                 55         0.428571\n",
      "3   maggie                 74         0.714286\n",
      "4     Ravi                 32         0.142857\n",
      "5     Xien                 77         0.857143\n",
      "6    Jalpa                 86         1.000000\n"
     ]
    }
   ],
   "source": [
    "df1['Percentile_rank']=df1.Mathematics_score.rank(pct=True)\n",
    "print(df1)"
   ]
  },
  {
   "cell_type": "code",
   "execution_count": 12,
   "metadata": {},
   "outputs": [],
   "source": [
    "mean = df1['Mathematics_score'].mean()\n",
    "median = df1['Mathematics_score'].median() \n",
    "standarddev = df1['Mathematics_score'].std()\n",
    "# You can call `quantile(i)` to get the i'th quantile,\n",
    "# where `i` should be a fractional number.\n",
    "\n",
    "percentile10 = df1['Mathematics_score'].quantile(0.1) # 10th percentile\n",
    "\n",
    "percentile50 = df1['Mathematics_score'].quantile(0.5) # same as median\n",
    "\n",
    "percentile90 = df1['Mathematics_score'].quantile(0.9) # 90th percentile"
   ]
  },
  {
   "cell_type": "code",
   "execution_count": 14,
   "metadata": {},
   "outputs": [
    {
     "name": "stdout",
     "output_type": "stream",
     "text": [
      "61.857142857142854\n",
      "62.0\n",
      "18.79209560274897\n",
      "----------\n",
      "41.0\n",
      "62.0\n",
      "80.60000000000001\n"
     ]
    }
   ],
   "source": [
    "print(mean)\n",
    "print(median)\n",
    "print(standarddev)\n",
    "\n",
    "print('----------')\n",
    "\n",
    "print(percentile10)\n",
    "print(percentile50)\n",
    "print(percentile90)\n"
   ]
  },
  {
   "cell_type": "code",
   "execution_count": null,
   "metadata": {},
   "outputs": [],
   "source": []
  }
 ],
 "metadata": {
  "kernelspec": {
   "display_name": "Python 3",
   "language": "python",
   "name": "python3"
  },
  "language_info": {
   "codemirror_mode": {
    "name": "ipython",
    "version": 3
   },
   "file_extension": ".py",
   "mimetype": "text/x-python",
   "name": "python",
   "nbconvert_exporter": "python",
   "pygments_lexer": "ipython3",
   "version": "3.7.1"
  }
 },
 "nbformat": 4,
 "nbformat_minor": 2
}
