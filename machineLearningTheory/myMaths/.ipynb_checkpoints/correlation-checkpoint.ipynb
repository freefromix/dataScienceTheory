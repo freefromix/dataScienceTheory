{
 "cells": [
  {
   "cell_type": "code",
   "execution_count": 7,
   "metadata": {},
   "outputs": [],
   "source": [
    "import pandas as pd"
   ]
  },
  {
   "cell_type": "markdown",
   "metadata": {},
   "source": [
    "$\\displaystyle \\rho _{X,Y}=\\operatorname {corr} (X,Y)={\\operatorname {cov} (X,Y) \\over \\sigma _{X}\\sigma _{Y}}={\\operatorname {E} [(X-\\mu _{X})(Y-\\mu _{Y})] \\over \\sigma _{X}\\sigma _{Y}}$\n",
    "\n",
    "The correlation coefficient is:\n",
    "- +1 in the case of a perfect direct **increasing** linear relationship (correlation).\n",
    "- -1 in the case of a perfect linear **decreasing** relationship (anticorrelation),\n",
    "- Some value in the open interval (-1,1) in all other cases, indicating the degree of linear dependence between the variables.\n",
    "- As it approaches **zero there is less of a relationship (closer to uncorrelated)**. \n",
    "- The closer the coefficient is to **either −1 or 1, the stronger the correlation between the variables.**"
   ]
  },
  {
   "cell_type": "code",
   "execution_count": 9,
   "metadata": {},
   "outputs": [
    {
     "name": "stdout",
     "output_type": "stream",
     "text": [
      "Note: Negative correlation is a relationship between two variables in which one variable increases as the other decreases\n",
      "\n",
      "------ df1 -----\n",
      "\n",
      "         Apple  Orange  Banana  Pear\n",
      "Basket1     10      20      30    40\n",
      "Basket2      7      14      21    28\n",
      "Basket3     55      15       8    12\n",
      "Basket4     15      14       1     8\n",
      "Basket5      7       1       1     8\n",
      "Basket6      5       4       9     2\n",
      "\n",
      "------ df2 -----\n",
      "\n",
      "         Apple  Orange  Banana  Pear\n",
      "Basket1     52      54      58    41\n",
      "Basket2     14      24      51    78\n",
      "Basket3     55      15       8    12\n",
      "Basket4     15      14       1     8\n",
      "Basket5      7      17      18    98\n",
      "Basket6     15      34      29    52\n",
      "\n",
      "------ Calculating Correlation of one DataFrame Columns: df1.corr() -----\n",
      "\n",
      "           Apple    Orange    Banana      Pear\n",
      "Apple   1.000000  0.341959 -0.180874 -0.125364\n",
      "Orange  0.341959  1.000000  0.646122  0.737144\n",
      "Banana -0.180874  0.646122  1.000000  0.918606\n",
      "Pear   -0.125364  0.737144  0.918606  1.000000\n",
      "\n",
      "----- Calculating correlation between two DataFrame: df2.corrwith(other=df1) -------\n",
      "\n",
      "Apple     0.678775\n",
      "Orange    0.354993\n",
      "Banana    0.920872\n",
      "Pear      0.076919\n",
      "dtype: float64\n"
     ]
    }
   ],
   "source": [
    "df1 = pd.DataFrame([[10, 20, 30, 40], [7, 14, 21, 28], [55, 15, 8, 12],\n",
    "                   [15, 14, 1, 8], [7, 1, 1, 8], [5, 4, 9, 2]],\n",
    "                  columns=['Apple', 'Orange', 'Banana', 'Pear'],\n",
    "                  index=['Basket1', 'Basket2', 'Basket3', 'Basket4',\n",
    "                         'Basket5', 'Basket6'])\n",
    " \n",
    " \n",
    "df2 = pd.DataFrame([[52, 54, 58, 41], [14, 24, 51, 78], [55, 15, 8, 12],\n",
    "                   [15, 14, 1, 8], [7, 17, 18, 98], [15, 34, 29, 52]],\n",
    "                  columns=['Apple', 'Orange', 'Banana', 'Pear'],\n",
    "                  index=['Basket1', 'Basket2', 'Basket3', 'Basket4',\n",
    "                         'Basket5', 'Basket6'])\n",
    "\n",
    "print(\"Note: Negative correlation is a relationship between two variables in which one variable increases as the other decreases\")\n",
    "print(\"\\n------ df1 -----\\n\")\n",
    "print(df1)\n",
    "print(\"\\n------ df2 -----\\n\")\n",
    "print(df2)\n",
    "\n",
    "print(\"\\n------ Calculating Correlation of one DataFrame Columns: df1.corr() -----\\n\")\n",
    "print(df1.corr())\n",
    "print(\"\\n----- Calculating correlation between two DataFrame: df2.corrwith(other=df1) -------\\n\")\n",
    "print(df2.corrwith(other=df1))"
   ]
  },
  {
   "cell_type": "code",
   "execution_count": null,
   "metadata": {},
   "outputs": [],
   "source": []
  }
 ],
 "metadata": {
  "kernelspec": {
   "display_name": "Python 3",
   "language": "python",
   "name": "python3"
  },
  "language_info": {
   "codemirror_mode": {
    "name": "ipython",
    "version": 3
   },
   "file_extension": ".py",
   "mimetype": "text/x-python",
   "name": "python",
   "nbconvert_exporter": "python",
   "pygments_lexer": "ipython3",
   "version": "3.7.1"
  }
 },
 "nbformat": 4,
 "nbformat_minor": 2
}
