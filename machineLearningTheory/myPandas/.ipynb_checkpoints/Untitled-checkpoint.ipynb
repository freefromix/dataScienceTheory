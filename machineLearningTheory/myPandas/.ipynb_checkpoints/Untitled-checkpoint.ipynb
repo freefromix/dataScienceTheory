{
 "cells": [
  {
   "cell_type": "code",
   "execution_count": 3,
   "metadata": {},
   "outputs": [],
   "source": [
    "import pandas as pd\n",
    "import numpy as np\n",
    "\n",
    "import plotly.graph_objs as go\n",
    "from plotly.offline import download_plotlyjs, init_notebook_mode, plot, iplot"
   ]
  },
  {
   "cell_type": "code",
   "execution_count": 4,
   "metadata": {},
   "outputs": [],
   "source": [
    "df = pd.read_excel('tabn322.10.xls', header = 1)"
   ]
  },
  {
   "cell_type": "code",
   "execution_count": 5,
   "metadata": {},
   "outputs": [],
   "source": [
    "# Delete rows 0, 1, 41, 42\n",
    "df = df.drop([0, 1, 41, 42])\n",
    "# Delete rows with NaN\n",
    "df = df.drop([7, 13, 19, 25, 31, 37])"
   ]
  },
  {
   "cell_type": "code",
   "execution_count": 6,
   "metadata": {},
   "outputs": [],
   "source": [
    "columns_index = df.columns\n",
    "rows_index = df.index\n",
    "\n",
    "column1 = df[df.columns[1]]\n",
    "row0 = df.loc[df.index[0]]"
   ]
  },
  {
   "cell_type": "code",
   "execution_count": 19,
   "metadata": {},
   "outputs": [
    {
     "name": "stdout",
     "output_type": "stream",
     "text": [
      "<class 'pandas.core.series.Series'>\n"
     ]
    }
   ],
   "source": [
    "print(type(row0))"
   ]
  },
  {
   "cell_type": "code",
   "execution_count": 16,
   "metadata": {},
   "outputs": [
    {
     "name": "stdout",
     "output_type": "stream",
     "text": [
      "[0, 1, 2, 3, 4]\n"
     ]
    }
   ],
   "source": [
    "# Create traces\n",
    "trace0 = go.Scatter(\n",
    "    x = df.columns,\n",
    "    y = df.index[0],\n",
    "    mode = 'lines',\n",
    "    name = 'row0'\n",
    ")"
   ]
  },
  {
   "cell_type": "code",
   "execution_count": null,
   "metadata": {},
   "outputs": [],
   "source": [
    "# print(df.loc[3:])\n",
    "\n",
    "# sprint(df.head())\n",
    "# print(df['Field of study'])\n",
    "\n",
    "# plot([go.Scatter(x=[1, 2, 3], y=[3, 1, 6])])\n",
    "\n",
    "# plot([go.Line(x=df.columns, y=df.columns)])\n",
    " \n",
    "\n",
    "\n",
    "     \n",
    "#for colmunvalue in df.columns:\n",
    "#    print('column', colmunvalue)\n",
    "#    for indexvalue in df.index:\n",
    "#        print(df[colmunvalue][indexvalue])"
   ]
  }
 ],
 "metadata": {
  "kernelspec": {
   "display_name": "Python 3",
   "language": "python",
   "name": "python3"
  },
  "language_info": {
   "codemirror_mode": {
    "name": "ipython",
    "version": 3
   },
   "file_extension": ".py",
   "mimetype": "text/x-python",
   "name": "python",
   "nbconvert_exporter": "python",
   "pygments_lexer": "ipython3",
   "version": "3.7.1"
  }
 },
 "nbformat": 4,
 "nbformat_minor": 2
}
